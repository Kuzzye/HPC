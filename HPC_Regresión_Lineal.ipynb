{
  "nbformat": 4,
  "nbformat_minor": 0,
  "metadata": {
    "colab": {
      "provenance": [],
      "collapsed_sections": [
        "BjvI3Ewbhl5t",
        "PEql9VN22Zvd",
        "l7MNt7GmeN4f",
        "Uh9d7rWTklAS",
        "SAScM-H5lriH",
        "lIHyIlmK0gq6",
        "lVFjaVYt2P2H",
        "J0JHoVOoj8vl",
        "BySXxHrPxHjT",
        "gvj18NKynZf0"
      ]
    },
    "kernelspec": {
      "name": "python3",
      "display_name": "Python 3"
    },
    "language_info": {
      "name": "python"
    }
  },
  "cells": [
    {
      "cell_type": "markdown",
      "source": [
        "<p align=\"center\">\n",
        "<FONT FACE=\"times new roman\" SIZE=5>\n",
        "<br>\n",
        "<img src=\"https://res-5.cloudinary.com/crunchbase-production/image/upload/c_lpad,h_256,w_256,f_auto,q_auto:eco/v1455514364/pim02bzqvgz0hibsra41.png\"\n",
        "width=\"200\" height=\"200\">\n",
        "</img>\n",
        "<br>\n",
        "<i><b>Docente:</b></i> John Corredor, PhD.\n",
        "<br>\n",
        "<i><b>Asignatura:</b></i> HPC Introducción \n",
        "<br>\n",
        "<i><b>Estudiantes:</b></i><br>Kevin Fabian Chepe Astudillo\n",
        "<br>\n",
        "<i><b>Tema:</b></i> Parcial Final\n",
        "<br>\n",
        "23/11/22\n",
        "<br>\n",
        "</FONT>\n",
        "</p>"
      ],
      "metadata": {
        "id": "4_Uuk-zQd4Je"
      }
    },
    {
      "cell_type": "markdown",
      "source": [
        "##__Advertising DataSet__\n",
        "\n",
        "El Dataset Advertising recoge los ingresos por ventas generadas con respecto a los costes de la publicidad en múltiples canales como la radio, la televisión y los periódicos. \n",
        "\n",
        ">>Columnas\n",
        "* 0 - TV\n",
        "* 1 - Radio\n",
        "* 2 - NewsPaper\n",
        "* 3 - Sales\n",
        "\n",
        "\n",
        "_El dataset está tomado de Kaggle_"
      ],
      "metadata": {
        "id": "3TEwj5cteFtP"
      }
    },
    {
      "cell_type": "markdown",
      "source": [
        "## __Importar modulos__"
      ],
      "metadata": {
        "id": "BjvI3Ewbhl5t"
      }
    },
    {
      "cell_type": "code",
      "execution_count": null,
      "metadata": {
        "id": "ya3Qt_vsd2O0"
      },
      "outputs": [],
      "source": [
        "import pandas as pd     \n",
        "import numpy as np         \n",
        "import seaborn as sns      \n",
        "import matplotlib.pyplot as plt    \n",
        "import scipy.stats as stats         \n",
        "from sklearn.model_selection import train_test_split\n",
        "from sklearn.linear_model import LinearRegression\n",
        "from sklearn.metrics import r2_score\n",
        "from sklearn.pipeline import Pipeline\n",
        "from sklearn.preprocessing import StandardScaler\n",
        "from sklearn.impute import SimpleImputer\n",
        "from sklearn.linear_model import SGDRegressor"
      ]
    },
    {
      "cell_type": "markdown",
      "source": [
        "#__Análisis exploratorio__"
      ],
      "metadata": {
        "id": "PEql9VN22Zvd"
      }
    },
    {
      "cell_type": "markdown",
      "source": [
        "## __Preparación de los datos__\n",
        "\n",
        "Cargue los datos en un `DataFrame` y asigne los nombres a las columnas (si es necesario)."
      ],
      "metadata": {
        "id": "l7MNt7GmeN4f"
      }
    },
    {
      "cell_type": "code",
      "source": [
        "url = 'https://raw.githubusercontent.com/Kuzzye/HPC/main/Csv/advertisingdata.csv'\n",
        "data = pd.read_csv(url, header= None)"
      ],
      "metadata": {
        "id": "DFOTswKLeQJi"
      },
      "execution_count": null,
      "outputs": []
    },
    {
      "cell_type": "markdown",
      "source": [
        "Genere un resumen de los datos a través del método `info()` y verifique si el tipo de datos de cada columna es correcto."
      ],
      "metadata": {
        "id": "8YWSIgHWe27K"
      }
    },
    {
      "cell_type": "code",
      "source": [
        "data.info()"
      ],
      "metadata": {
        "colab": {
          "base_uri": "https://localhost:8080/"
        },
        "id": "px32kNhwuuYc",
        "outputId": "8ba1ea98-ffb1-4bf7-dff9-4bbcbe17bb03"
      },
      "execution_count": null,
      "outputs": [
        {
          "output_type": "stream",
          "name": "stdout",
          "text": [
            "<class 'pandas.core.frame.DataFrame'>\n",
            "RangeIndex: 200 entries, 0 to 199\n",
            "Data columns (total 4 columns):\n",
            " #   Column  Non-Null Count  Dtype  \n",
            "---  ------  --------------  -----  \n",
            " 0   0       200 non-null    float64\n",
            " 1   1       200 non-null    float64\n",
            " 2   2       200 non-null    float64\n",
            " 3   3       200 non-null    float64\n",
            "dtypes: float64(4)\n",
            "memory usage: 6.4 KB\n"
          ]
        }
      ]
    },
    {
      "cell_type": "code",
      "source": [
        "data"
      ],
      "metadata": {
        "colab": {
          "base_uri": "https://localhost:8080/",
          "height": 424
        },
        "id": "ySwyj60zc9zZ",
        "outputId": "f9e5d68d-8860-4c82-fb12-3ef7c9b86499"
      },
      "execution_count": null,
      "outputs": [
        {
          "output_type": "execute_result",
          "data": {
            "text/plain": [
              "         0     1     2     3\n",
              "0    230.1  37.8  69.2  22.1\n",
              "1     44.5  39.3  45.1  10.4\n",
              "2     17.2  45.9  69.3  12.0\n",
              "3    151.5  41.3  58.5  16.5\n",
              "4    180.8  10.8  58.4  17.9\n",
              "..     ...   ...   ...   ...\n",
              "195   38.2   3.7  13.8   7.6\n",
              "196   94.2   4.9   8.1  14.0\n",
              "197  177.0   9.3   6.4  14.8\n",
              "198  283.6  42.0  66.2  25.5\n",
              "199  232.1   8.6   8.7  18.4\n",
              "\n",
              "[200 rows x 4 columns]"
            ],
            "text/html": [
              "\n",
              "  <div id=\"df-2576ed17-372f-4c07-9d96-a03d7c5736fc\">\n",
              "    <div class=\"colab-df-container\">\n",
              "      <div>\n",
              "<style scoped>\n",
              "    .dataframe tbody tr th:only-of-type {\n",
              "        vertical-align: middle;\n",
              "    }\n",
              "\n",
              "    .dataframe tbody tr th {\n",
              "        vertical-align: top;\n",
              "    }\n",
              "\n",
              "    .dataframe thead th {\n",
              "        text-align: right;\n",
              "    }\n",
              "</style>\n",
              "<table border=\"1\" class=\"dataframe\">\n",
              "  <thead>\n",
              "    <tr style=\"text-align: right;\">\n",
              "      <th></th>\n",
              "      <th>0</th>\n",
              "      <th>1</th>\n",
              "      <th>2</th>\n",
              "      <th>3</th>\n",
              "    </tr>\n",
              "  </thead>\n",
              "  <tbody>\n",
              "    <tr>\n",
              "      <th>0</th>\n",
              "      <td>230.1</td>\n",
              "      <td>37.8</td>\n",
              "      <td>69.2</td>\n",
              "      <td>22.1</td>\n",
              "    </tr>\n",
              "    <tr>\n",
              "      <th>1</th>\n",
              "      <td>44.5</td>\n",
              "      <td>39.3</td>\n",
              "      <td>45.1</td>\n",
              "      <td>10.4</td>\n",
              "    </tr>\n",
              "    <tr>\n",
              "      <th>2</th>\n",
              "      <td>17.2</td>\n",
              "      <td>45.9</td>\n",
              "      <td>69.3</td>\n",
              "      <td>12.0</td>\n",
              "    </tr>\n",
              "    <tr>\n",
              "      <th>3</th>\n",
              "      <td>151.5</td>\n",
              "      <td>41.3</td>\n",
              "      <td>58.5</td>\n",
              "      <td>16.5</td>\n",
              "    </tr>\n",
              "    <tr>\n",
              "      <th>4</th>\n",
              "      <td>180.8</td>\n",
              "      <td>10.8</td>\n",
              "      <td>58.4</td>\n",
              "      <td>17.9</td>\n",
              "    </tr>\n",
              "    <tr>\n",
              "      <th>...</th>\n",
              "      <td>...</td>\n",
              "      <td>...</td>\n",
              "      <td>...</td>\n",
              "      <td>...</td>\n",
              "    </tr>\n",
              "    <tr>\n",
              "      <th>195</th>\n",
              "      <td>38.2</td>\n",
              "      <td>3.7</td>\n",
              "      <td>13.8</td>\n",
              "      <td>7.6</td>\n",
              "    </tr>\n",
              "    <tr>\n",
              "      <th>196</th>\n",
              "      <td>94.2</td>\n",
              "      <td>4.9</td>\n",
              "      <td>8.1</td>\n",
              "      <td>14.0</td>\n",
              "    </tr>\n",
              "    <tr>\n",
              "      <th>197</th>\n",
              "      <td>177.0</td>\n",
              "      <td>9.3</td>\n",
              "      <td>6.4</td>\n",
              "      <td>14.8</td>\n",
              "    </tr>\n",
              "    <tr>\n",
              "      <th>198</th>\n",
              "      <td>283.6</td>\n",
              "      <td>42.0</td>\n",
              "      <td>66.2</td>\n",
              "      <td>25.5</td>\n",
              "    </tr>\n",
              "    <tr>\n",
              "      <th>199</th>\n",
              "      <td>232.1</td>\n",
              "      <td>8.6</td>\n",
              "      <td>8.7</td>\n",
              "      <td>18.4</td>\n",
              "    </tr>\n",
              "  </tbody>\n",
              "</table>\n",
              "<p>200 rows × 4 columns</p>\n",
              "</div>\n",
              "      <button class=\"colab-df-convert\" onclick=\"convertToInteractive('df-2576ed17-372f-4c07-9d96-a03d7c5736fc')\"\n",
              "              title=\"Convert this dataframe to an interactive table.\"\n",
              "              style=\"display:none;\">\n",
              "        \n",
              "  <svg xmlns=\"http://www.w3.org/2000/svg\" height=\"24px\"viewBox=\"0 0 24 24\"\n",
              "       width=\"24px\">\n",
              "    <path d=\"M0 0h24v24H0V0z\" fill=\"none\"/>\n",
              "    <path d=\"M18.56 5.44l.94 2.06.94-2.06 2.06-.94-2.06-.94-.94-2.06-.94 2.06-2.06.94zm-11 1L8.5 8.5l.94-2.06 2.06-.94-2.06-.94L8.5 2.5l-.94 2.06-2.06.94zm10 10l.94 2.06.94-2.06 2.06-.94-2.06-.94-.94-2.06-.94 2.06-2.06.94z\"/><path d=\"M17.41 7.96l-1.37-1.37c-.4-.4-.92-.59-1.43-.59-.52 0-1.04.2-1.43.59L10.3 9.45l-7.72 7.72c-.78.78-.78 2.05 0 2.83L4 21.41c.39.39.9.59 1.41.59.51 0 1.02-.2 1.41-.59l7.78-7.78 2.81-2.81c.8-.78.8-2.07 0-2.86zM5.41 20L4 18.59l7.72-7.72 1.47 1.35L5.41 20z\"/>\n",
              "  </svg>\n",
              "      </button>\n",
              "      \n",
              "  <style>\n",
              "    .colab-df-container {\n",
              "      display:flex;\n",
              "      flex-wrap:wrap;\n",
              "      gap: 12px;\n",
              "    }\n",
              "\n",
              "    .colab-df-convert {\n",
              "      background-color: #E8F0FE;\n",
              "      border: none;\n",
              "      border-radius: 50%;\n",
              "      cursor: pointer;\n",
              "      display: none;\n",
              "      fill: #1967D2;\n",
              "      height: 32px;\n",
              "      padding: 0 0 0 0;\n",
              "      width: 32px;\n",
              "    }\n",
              "\n",
              "    .colab-df-convert:hover {\n",
              "      background-color: #E2EBFA;\n",
              "      box-shadow: 0px 1px 2px rgba(60, 64, 67, 0.3), 0px 1px 3px 1px rgba(60, 64, 67, 0.15);\n",
              "      fill: #174EA6;\n",
              "    }\n",
              "\n",
              "    [theme=dark] .colab-df-convert {\n",
              "      background-color: #3B4455;\n",
              "      fill: #D2E3FC;\n",
              "    }\n",
              "\n",
              "    [theme=dark] .colab-df-convert:hover {\n",
              "      background-color: #434B5C;\n",
              "      box-shadow: 0px 1px 3px 1px rgba(0, 0, 0, 0.15);\n",
              "      filter: drop-shadow(0px 1px 2px rgba(0, 0, 0, 0.3));\n",
              "      fill: #FFFFFF;\n",
              "    }\n",
              "  </style>\n",
              "\n",
              "      <script>\n",
              "        const buttonEl =\n",
              "          document.querySelector('#df-2576ed17-372f-4c07-9d96-a03d7c5736fc button.colab-df-convert');\n",
              "        buttonEl.style.display =\n",
              "          google.colab.kernel.accessAllowed ? 'block' : 'none';\n",
              "\n",
              "        async function convertToInteractive(key) {\n",
              "          const element = document.querySelector('#df-2576ed17-372f-4c07-9d96-a03d7c5736fc');\n",
              "          const dataTable =\n",
              "            await google.colab.kernel.invokeFunction('convertToInteractive',\n",
              "                                                     [key], {});\n",
              "          if (!dataTable) return;\n",
              "\n",
              "          const docLinkHtml = 'Like what you see? Visit the ' +\n",
              "            '<a target=\"_blank\" href=https://colab.research.google.com/notebooks/data_table.ipynb>data table notebook</a>'\n",
              "            + ' to learn more about interactive tables.';\n",
              "          element.innerHTML = '';\n",
              "          dataTable['output_type'] = 'display_data';\n",
              "          await google.colab.output.renderOutput(dataTable, element);\n",
              "          const docLink = document.createElement('div');\n",
              "          docLink.innerHTML = docLinkHtml;\n",
              "          element.appendChild(docLink);\n",
              "        }\n",
              "      </script>\n",
              "    </div>\n",
              "  </div>\n",
              "  "
            ]
          },
          "metadata": {},
          "execution_count": 76
        }
      ]
    },
    {
      "cell_type": "markdown",
      "source": [
        "## __Promedio__\n",
        "\n",
        "Se calculo el promedio de las columnas y se valida en el modelo de C++"
      ],
      "metadata": {
        "id": "Uh9d7rWTklAS"
      }
    },
    {
      "cell_type": "markdown",
      "source": [
        "![imagen.png](data:image/png;base64,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)"
      ],
      "metadata": {
        "id": "WDncpxhMlW_D"
      }
    },
    {
      "cell_type": "code",
      "source": [
        "data.mean()"
      ],
      "metadata": {
        "colab": {
          "base_uri": "https://localhost:8080/"
        },
        "id": "moOxYNkNknUj",
        "outputId": "be60af55-5dab-4c21-95fd-cbaa05668aff"
      },
      "execution_count": null,
      "outputs": [
        {
          "output_type": "execute_result",
          "data": {
            "text/plain": [
              "0    147.0425\n",
              "1     23.2640\n",
              "2     30.5540\n",
              "3     15.1305\n",
              "dtype: float64"
            ]
          },
          "metadata": {},
          "execution_count": 78
        }
      ]
    },
    {
      "cell_type": "markdown",
      "source": [
        "## __Desviación Estadar__\n",
        "\n",
        "Se calcula la desviación de los datos se valida en el modelo de C++"
      ],
      "metadata": {
        "id": "SAScM-H5lriH"
      }
    },
    {
      "cell_type": "markdown",
      "source": [
        "![imagen.png](data:image/png;base64,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)"
      ],
      "metadata": {
        "id": "OsDnSTdsmsJV"
      }
    },
    {
      "cell_type": "code",
      "source": [
        "data.std()"
      ],
      "metadata": {
        "colab": {
          "base_uri": "https://localhost:8080/"
        },
        "id": "GjuD1WVTmNcU",
        "outputId": "57140af5-0078-4cfb-b9cc-6015fef79b8d"
      },
      "execution_count": null,
      "outputs": [
        {
          "output_type": "execute_result",
          "data": {
            "text/plain": [
              "0    85.854236\n",
              "1    14.846809\n",
              "2    21.778621\n",
              "3     5.283892\n",
              "dtype: float64"
            ]
          },
          "metadata": {},
          "execution_count": 79
        }
      ]
    },
    {
      "cell_type": "markdown",
      "source": [
        "## __Matriz de correlación__\n",
        "\n",
        "La matriz de correlación es la mejor manera de apreciar el comportamiento de los datos y visualizar la relación.\n"
      ],
      "metadata": {
        "id": "lIHyIlmK0gq6"
      }
    },
    {
      "cell_type": "code",
      "source": [
        "plt.figure(figsize=(10, 8))\n",
        "plt.rc({'size': '18'})\n",
        "sns.heatmap(data.corr(), annot=True, cmap=\"YlGnBu\", annot_kws={\"size\":16})"
      ],
      "metadata": {
        "id": "8tsZxkP90ugD",
        "colab": {
          "base_uri": "https://localhost:8080/",
          "height": 504
        },
        "outputId": "45d7a445-d686-47cb-9599-bc6c6a075449"
      },
      "execution_count": null,
      "outputs": [
        {
          "output_type": "execute_result",
          "data": {
            "text/plain": [
              "<matplotlib.axes._subplots.AxesSubplot at 0x7f576d3a6d50>"
            ]
          },
          "metadata": {},
          "execution_count": 77
        },
        {
          "output_type": "display_data",
          "data": {
            "text/plain": [
              "<Figure size 720x576 with 2 Axes>"
            ],
            "image/png": "[encoded data removed]"
          },
          "metadata": {
            "needs_background": "light"
          }
        }
      ]
    },
    {
      "cell_type": "markdown",
      "source": [
        "matriz de dispersión de las variables para identificar si hay correlación entre las variables."
      ],
      "metadata": {
        "id": "Xmb2yjWqzASu"
      }
    },
    {
      "cell_type": "code",
      "source": [
        "sns.pairplot(data)"
      ],
      "metadata": {
        "colab": {
          "base_uri": "https://localhost:8080/",
          "height": 743
        },
        "id": "DL2Me-MHy7ZA",
        "outputId": "65c14c48-c868-44e5-eee1-e2e51d5201c1"
      },
      "execution_count": null,
      "outputs": [
        {
          "output_type": "execute_result",
          "data": {
            "text/plain": [
              "<seaborn.axisgrid.PairGrid at 0x7f5767ca7150>"
            ]
          },
          "metadata": {},
          "execution_count": 108
        },
        {
          "output_type": "display_data",
          "data": {
            "text/plain": [
              "<Figure size 720x720 with 20 Axes>"
            ],
            "image/png": "[encoded data removed]"
          },
          "metadata": {
            "needs_background": "light"
          }
        }
      ]
    },
    {
      "cell_type": "markdown",
      "source": [
        "Identifique posibles valores atípicos en los datos."
      ],
      "metadata": {
        "id": "S_IwCdYZymsj"
      }
    },
    {
      "cell_type": "code",
      "source": [
        "data[[0, 1, 2]].boxplot(figsize=(14,9), )\n",
        "plt.show()"
      ],
      "metadata": {
        "colab": {
          "base_uri": "https://localhost:8080/",
          "height": 537
        },
        "id": "l1ysLyg22HZz",
        "outputId": "5b09b81e-347b-4a1c-af51-d56584c877c1"
      },
      "execution_count": null,
      "outputs": [
        {
          "output_type": "display_data",
          "data": {
            "text/plain": [
              "<Figure size 1008x648 with 1 Axes>"
            ],
            "image/png": "[encoded data removed]"
          },
          "metadata": {
            "needs_background": "light"
          }
        }
      ]
    },
    {
      "cell_type": "markdown",
      "source": [
        "# __Regresión Lineal__"
      ],
      "metadata": {
        "id": "lVFjaVYt2P2H"
      }
    },
    {
      "cell_type": "markdown",
      "source": [
        "## __Normalizar los datos__"
      ],
      "metadata": {
        "id": "J0JHoVOoj8vl"
      }
    },
    {
      "cell_type": "markdown",
      "source": [
        "![imagen.png](data:image/png;base64,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)"
      ],
      "metadata": {
        "id": "EGSsXu1zqoxd"
      }
    },
    {
      "cell_type": "code",
      "source": [
        "stats.zscore(data)"
      ],
      "metadata": {
        "colab": {
          "base_uri": "https://localhost:8080/",
          "height": 424
        },
        "id": "_nqH8LankAVR",
        "outputId": "d7e23844-3b1c-4d10-c7ea-1a0fca0fd84f"
      },
      "execution_count": null,
      "outputs": [
        {
          "output_type": "execute_result",
          "data": {
            "text/plain": [
              "            0         1         2         3\n",
              "0    0.969852  0.981522  1.778945  1.322319\n",
              "1   -1.197376  1.082808  0.669579 -0.897515\n",
              "2   -1.516155  1.528463  1.783549 -0.593948\n",
              "3    0.052050  1.217855  1.286405  0.259834\n",
              "4    0.394182 -0.841614  1.281802  0.525455\n",
              "..        ...       ...       ...       ...\n",
              "195 -1.270941 -1.321031 -0.771217 -1.428757\n",
              "196 -0.617035 -1.240003 -1.033598 -0.214489\n",
              "197  0.349810 -0.942899 -1.111852 -0.062706\n",
              "198  1.594565  1.265121  1.640850  1.967398\n",
              "199  0.993206 -0.990165 -1.005979  0.620320\n",
              "\n",
              "[200 rows x 4 columns]"
            ],
            "text/html": [
              "\n",
              "  <div id=\"df-ca53abfb-21ab-476e-8353-444baaf22cbe\">\n",
              "    <div class=\"colab-df-container\">\n",
              "      <div>\n",
              "<style scoped>\n",
              "    .dataframe tbody tr th:only-of-type {\n",
              "        vertical-align: middle;\n",
              "    }\n",
              "\n",
              "    .dataframe tbody tr th {\n",
              "        vertical-align: top;\n",
              "    }\n",
              "\n",
              "    .dataframe thead th {\n",
              "        text-align: right;\n",
              "    }\n",
              "</style>\n",
              "<table border=\"1\" class=\"dataframe\">\n",
              "  <thead>\n",
              "    <tr style=\"text-align: right;\">\n",
              "      <th></th>\n",
              "      <th>0</th>\n",
              "      <th>1</th>\n",
              "      <th>2</th>\n",
              "      <th>3</th>\n",
              "    </tr>\n",
              "  </thead>\n",
              "  <tbody>\n",
              "    <tr>\n",
              "      <th>0</th>\n",
              "      <td>0.969852</td>\n",
              "      <td>0.981522</td>\n",
              "      <td>1.778945</td>\n",
              "      <td>1.322319</td>\n",
              "    </tr>\n",
              "    <tr>\n",
              "      <th>1</th>\n",
              "      <td>-1.197376</td>\n",
              "      <td>1.082808</td>\n",
              "      <td>0.669579</td>\n",
              "      <td>-0.897515</td>\n",
              "    </tr>\n",
              "    <tr>\n",
              "      <th>2</th>\n",
              "      <td>-1.516155</td>\n",
              "      <td>1.528463</td>\n",
              "      <td>1.783549</td>\n",
              "      <td>-0.593948</td>\n",
              "    </tr>\n",
              "    <tr>\n",
              "      <th>3</th>\n",
              "      <td>0.052050</td>\n",
              "      <td>1.217855</td>\n",
              "      <td>1.286405</td>\n",
              "      <td>0.259834</td>\n",
              "    </tr>\n",
              "    <tr>\n",
              "      <th>4</th>\n",
              "      <td>0.394182</td>\n",
              "      <td>-0.841614</td>\n",
              "      <td>1.281802</td>\n",
              "      <td>0.525455</td>\n",
              "    </tr>\n",
              "    <tr>\n",
              "      <th>...</th>\n",
              "      <td>...</td>\n",
              "      <td>...</td>\n",
              "      <td>...</td>\n",
              "      <td>...</td>\n",
              "    </tr>\n",
              "    <tr>\n",
              "      <th>195</th>\n",
              "      <td>-1.270941</td>\n",
              "      <td>-1.321031</td>\n",
              "      <td>-0.771217</td>\n",
              "      <td>-1.428757</td>\n",
              "    </tr>\n",
              "    <tr>\n",
              "      <th>196</th>\n",
              "      <td>-0.617035</td>\n",
              "      <td>-1.240003</td>\n",
              "      <td>-1.033598</td>\n",
              "      <td>-0.214489</td>\n",
              "    </tr>\n",
              "    <tr>\n",
              "      <th>197</th>\n",
              "      <td>0.349810</td>\n",
              "      <td>-0.942899</td>\n",
              "      <td>-1.111852</td>\n",
              "      <td>-0.062706</td>\n",
              "    </tr>\n",
              "    <tr>\n",
              "      <th>198</th>\n",
              "      <td>1.594565</td>\n",
              "      <td>1.265121</td>\n",
              "      <td>1.640850</td>\n",
              "      <td>1.967398</td>\n",
              "    </tr>\n",
              "    <tr>\n",
              "      <th>199</th>\n",
              "      <td>0.993206</td>\n",
              "      <td>-0.990165</td>\n",
              "      <td>-1.005979</td>\n",
              "      <td>0.620320</td>\n",
              "    </tr>\n",
              "  </tbody>\n",
              "</table>\n",
              "<p>200 rows × 4 columns</p>\n",
              "</div>\n",
              "      <button class=\"colab-df-convert\" onclick=\"convertToInteractive('df-ca53abfb-21ab-476e-8353-444baaf22cbe')\"\n",
              "              title=\"Convert this dataframe to an interactive table.\"\n",
              "              style=\"display:none;\">\n",
              "        \n",
              "  <svg xmlns=\"http://www.w3.org/2000/svg\" height=\"24px\"viewBox=\"0 0 24 24\"\n",
              "       width=\"24px\">\n",
              "    <path d=\"M0 0h24v24H0V0z\" fill=\"none\"/>\n",
              "    <path d=\"M18.56 5.44l.94 2.06.94-2.06 2.06-.94-2.06-.94-.94-2.06-.94 2.06-2.06.94zm-11 1L8.5 8.5l.94-2.06 2.06-.94-2.06-.94L8.5 2.5l-.94 2.06-2.06.94zm10 10l.94 2.06.94-2.06 2.06-.94-2.06-.94-.94-2.06-.94 2.06-2.06.94z\"/><path d=\"M17.41 7.96l-1.37-1.37c-.4-.4-.92-.59-1.43-.59-.52 0-1.04.2-1.43.59L10.3 9.45l-7.72 7.72c-.78.78-.78 2.05 0 2.83L4 21.41c.39.39.9.59 1.41.59.51 0 1.02-.2 1.41-.59l7.78-7.78 2.81-2.81c.8-.78.8-2.07 0-2.86zM5.41 20L4 18.59l7.72-7.72 1.47 1.35L5.41 20z\"/>\n",
              "  </svg>\n",
              "      </button>\n",
              "      \n",
              "  <style>\n",
              "    .colab-df-container {\n",
              "      display:flex;\n",
              "      flex-wrap:wrap;\n",
              "      gap: 12px;\n",
              "    }\n",
              "\n",
              "    .colab-df-convert {\n",
              "      background-color: #E8F0FE;\n",
              "      border: none;\n",
              "      border-radius: 50%;\n",
              "      cursor: pointer;\n",
              "      display: none;\n",
              "      fill: #1967D2;\n",
              "      height: 32px;\n",
              "      padding: 0 0 0 0;\n",
              "      width: 32px;\n",
              "    }\n",
              "\n",
              "    .colab-df-convert:hover {\n",
              "      background-color: #E2EBFA;\n",
              "      box-shadow: 0px 1px 2px rgba(60, 64, 67, 0.3), 0px 1px 3px 1px rgba(60, 64, 67, 0.15);\n",
              "      fill: #174EA6;\n",
              "    }\n",
              "\n",
              "    [theme=dark] .colab-df-convert {\n",
              "      background-color: #3B4455;\n",
              "      fill: #D2E3FC;\n",
              "    }\n",
              "\n",
              "    [theme=dark] .colab-df-convert:hover {\n",
              "      background-color: #434B5C;\n",
              "      box-shadow: 0px 1px 3px 1px rgba(0, 0, 0, 0.15);\n",
              "      filter: drop-shadow(0px 1px 2px rgba(0, 0, 0, 0.3));\n",
              "      fill: #FFFFFF;\n",
              "    }\n",
              "  </style>\n",
              "\n",
              "      <script>\n",
              "        const buttonEl =\n",
              "          document.querySelector('#df-ca53abfb-21ab-476e-8353-444baaf22cbe button.colab-df-convert');\n",
              "        buttonEl.style.display =\n",
              "          google.colab.kernel.accessAllowed ? 'block' : 'none';\n",
              "\n",
              "        async function convertToInteractive(key) {\n",
              "          const element = document.querySelector('#df-ca53abfb-21ab-476e-8353-444baaf22cbe');\n",
              "          const dataTable =\n",
              "            await google.colab.kernel.invokeFunction('convertToInteractive',\n",
              "                                                     [key], {});\n",
              "          if (!dataTable) return;\n",
              "\n",
              "          const docLinkHtml = 'Like what you see? Visit the ' +\n",
              "            '<a target=\"_blank\" href=https://colab.research.google.com/notebooks/data_table.ipynb>data table notebook</a>'\n",
              "            + ' to learn more about interactive tables.';\n",
              "          element.innerHTML = '';\n",
              "          dataTable['output_type'] = 'display_data';\n",
              "          await google.colab.output.renderOutput(dataTable, element);\n",
              "          const docLink = document.createElement('div');\n",
              "          docLink.innerHTML = docLinkHtml;\n",
              "          element.appendChild(docLink);\n",
              "        }\n",
              "      </script>\n",
              "    </div>\n",
              "  </div>\n",
              "  "
            ]
          },
          "metadata": {},
          "execution_count": 85
        }
      ]
    },
    {
      "cell_type": "markdown",
      "source": [
        "## __Entrenamiento y modelo__"
      ],
      "metadata": {
        "id": "BySXxHrPxHjT"
      }
    },
    {
      "cell_type": "markdown",
      "source": [
        "Separar las variables dependientes de los independientes"
      ],
      "metadata": {
        "id": "ItQIU7mqj8q4"
      }
    },
    {
      "cell_type": "code",
      "source": [
        "X=data[[0,1,2]]\n",
        "y=data[[3]]"
      ],
      "metadata": {
        "id": "wVh_1bDfj8Zb"
      },
      "execution_count": null,
      "outputs": []
    },
    {
      "cell_type": "markdown",
      "source": [
        "Variable independiente"
      ],
      "metadata": {
        "id": "B1LMsYP8sRnu"
      }
    },
    {
      "cell_type": "code",
      "source": [
        "print(X)"
      ],
      "metadata": {
        "colab": {
          "base_uri": "https://localhost:8080/"
        },
        "id": "y0BhLz7wmpjk",
        "outputId": "eee1ed1d-be60-4d04-9ed6-bcaf3c3d5c19"
      },
      "execution_count": null,
      "outputs": [
        {
          "output_type": "stream",
          "name": "stdout",
          "text": [
            "         0     1     2\n",
            "0    230.1  37.8  69.2\n",
            "1     44.5  39.3  45.1\n",
            "2     17.2  45.9  69.3\n",
            "3    151.5  41.3  58.5\n",
            "4    180.8  10.8  58.4\n",
            "..     ...   ...   ...\n",
            "195   38.2   3.7  13.8\n",
            "196   94.2   4.9   8.1\n",
            "197  177.0   9.3   6.4\n",
            "198  283.6  42.0  66.2\n",
            "199  232.1   8.6   8.7\n",
            "\n",
            "[200 rows x 3 columns]\n"
          ]
        }
      ]
    },
    {
      "cell_type": "markdown",
      "source": [
        "Variable dependiente"
      ],
      "metadata": {
        "id": "kTOnMEKksOWT"
      }
    },
    {
      "cell_type": "code",
      "source": [
        "print(y)"
      ],
      "metadata": {
        "colab": {
          "base_uri": "https://localhost:8080/"
        },
        "id": "DQidHBUjquzN",
        "outputId": "79477c8c-fb00-4f46-a4be-54853ca9e1f6"
      },
      "execution_count": null,
      "outputs": [
        {
          "output_type": "stream",
          "name": "stdout",
          "text": [
            "        3\n",
            "0    22.1\n",
            "1    10.4\n",
            "2    12.0\n",
            "3    16.5\n",
            "4    17.9\n",
            "..    ...\n",
            "195   7.6\n",
            "196  14.0\n",
            "197  14.8\n",
            "198  25.5\n",
            "199  18.4\n",
            "\n",
            "[200 rows x 1 columns]\n"
          ]
        }
      ]
    },
    {
      "cell_type": "markdown",
      "source": [
        "Se genera un conjunto de datos de prueba con el 20% de los datos disponibles."
      ],
      "metadata": {
        "id": "O1zuLGNfi_jZ"
      }
    },
    {
      "cell_type": "code",
      "source": [
        "X_train, X_test, y_train, y_test = train_test_split(X, y, random_state= 0, train_size = 0.8)"
      ],
      "metadata": {
        "id": "obeNxx21tM6d"
      },
      "execution_count": null,
      "outputs": []
    },
    {
      "cell_type": "code",
      "source": [
        "X_train"
      ],
      "metadata": {
        "colab": {
          "base_uri": "https://localhost:8080/",
          "height": 424
        },
        "id": "1kTBJRAFx46P",
        "outputId": "aa66379b-2985-4844-940d-24a05c743250"
      },
      "execution_count": null,
      "outputs": [
        {
          "output_type": "execute_result",
          "data": {
            "text/plain": [
              "         0     1     2\n",
              "134   36.9  38.6  65.6\n",
              "66    31.5  24.6   2.2\n",
              "26   142.9  29.3  12.6\n",
              "113  209.6  20.6  10.7\n",
              "168  215.4  23.6  57.6\n",
              "..     ...   ...   ...\n",
              "67   139.3  14.5  10.2\n",
              "192   17.2   4.1  31.6\n",
              "117   76.4   0.8  14.8\n",
              "47   239.9  41.5  18.5\n",
              "172   19.6  20.1  17.0\n",
              "\n",
              "[160 rows x 3 columns]"
            ],
            "text/html": [
              "\n",
              "  <div id=\"df-11c1a4ba-971f-4d8f-b461-40b30033cf6d\">\n",
              "    <div class=\"colab-df-container\">\n",
              "      <div>\n",
              "<style scoped>\n",
              "    .dataframe tbody tr th:only-of-type {\n",
              "        vertical-align: middle;\n",
              "    }\n",
              "\n",
              "    .dataframe tbody tr th {\n",
              "        vertical-align: top;\n",
              "    }\n",
              "\n",
              "    .dataframe thead th {\n",
              "        text-align: right;\n",
              "    }\n",
              "</style>\n",
              "<table border=\"1\" class=\"dataframe\">\n",
              "  <thead>\n",
              "    <tr style=\"text-align: right;\">\n",
              "      <th></th>\n",
              "      <th>0</th>\n",
              "      <th>1</th>\n",
              "      <th>2</th>\n",
              "    </tr>\n",
              "  </thead>\n",
              "  <tbody>\n",
              "    <tr>\n",
              "      <th>134</th>\n",
              "      <td>36.9</td>\n",
              "      <td>38.6</td>\n",
              "      <td>65.6</td>\n",
              "    </tr>\n",
              "    <tr>\n",
              "      <th>66</th>\n",
              "      <td>31.5</td>\n",
              "      <td>24.6</td>\n",
              "      <td>2.2</td>\n",
              "    </tr>\n",
              "    <tr>\n",
              "      <th>26</th>\n",
              "      <td>142.9</td>\n",
              "      <td>29.3</td>\n",
              "      <td>12.6</td>\n",
              "    </tr>\n",
              "    <tr>\n",
              "      <th>113</th>\n",
              "      <td>209.6</td>\n",
              "      <td>20.6</td>\n",
              "      <td>10.7</td>\n",
              "    </tr>\n",
              "    <tr>\n",
              "      <th>168</th>\n",
              "      <td>215.4</td>\n",
              "      <td>23.6</td>\n",
              "      <td>57.6</td>\n",
              "    </tr>\n",
              "    <tr>\n",
              "      <th>...</th>\n",
              "      <td>...</td>\n",
              "      <td>...</td>\n",
              "      <td>...</td>\n",
              "    </tr>\n",
              "    <tr>\n",
              "      <th>67</th>\n",
              "      <td>139.3</td>\n",
              "      <td>14.5</td>\n",
              "      <td>10.2</td>\n",
              "    </tr>\n",
              "    <tr>\n",
              "      <th>192</th>\n",
              "      <td>17.2</td>\n",
              "      <td>4.1</td>\n",
              "      <td>31.6</td>\n",
              "    </tr>\n",
              "    <tr>\n",
              "      <th>117</th>\n",
              "      <td>76.4</td>\n",
              "      <td>0.8</td>\n",
              "      <td>14.8</td>\n",
              "    </tr>\n",
              "    <tr>\n",
              "      <th>47</th>\n",
              "      <td>239.9</td>\n",
              "      <td>41.5</td>\n",
              "      <td>18.5</td>\n",
              "    </tr>\n",
              "    <tr>\n",
              "      <th>172</th>\n",
              "      <td>19.6</td>\n",
              "      <td>20.1</td>\n",
              "      <td>17.0</td>\n",
              "    </tr>\n",
              "  </tbody>\n",
              "</table>\n",
              "<p>160 rows × 3 columns</p>\n",
              "</div>\n",
              "      <button class=\"colab-df-convert\" onclick=\"convertToInteractive('df-11c1a4ba-971f-4d8f-b461-40b30033cf6d')\"\n",
              "              title=\"Convert this dataframe to an interactive table.\"\n",
              "              style=\"display:none;\">\n",
              "        \n",
              "  <svg xmlns=\"http://www.w3.org/2000/svg\" height=\"24px\"viewBox=\"0 0 24 24\"\n",
              "       width=\"24px\">\n",
              "    <path d=\"M0 0h24v24H0V0z\" fill=\"none\"/>\n",
              "    <path d=\"M18.56 5.44l.94 2.06.94-2.06 2.06-.94-2.06-.94-.94-2.06-.94 2.06-2.06.94zm-11 1L8.5 8.5l.94-2.06 2.06-.94-2.06-.94L8.5 2.5l-.94 2.06-2.06.94zm10 10l.94 2.06.94-2.06 2.06-.94-2.06-.94-.94-2.06-.94 2.06-2.06.94z\"/><path d=\"M17.41 7.96l-1.37-1.37c-.4-.4-.92-.59-1.43-.59-.52 0-1.04.2-1.43.59L10.3 9.45l-7.72 7.72c-.78.78-.78 2.05 0 2.83L4 21.41c.39.39.9.59 1.41.59.51 0 1.02-.2 1.41-.59l7.78-7.78 2.81-2.81c.8-.78.8-2.07 0-2.86zM5.41 20L4 18.59l7.72-7.72 1.47 1.35L5.41 20z\"/>\n",
              "  </svg>\n",
              "      </button>\n",
              "      \n",
              "  <style>\n",
              "    .colab-df-container {\n",
              "      display:flex;\n",
              "      flex-wrap:wrap;\n",
              "      gap: 12px;\n",
              "    }\n",
              "\n",
              "    .colab-df-convert {\n",
              "      background-color: #E8F0FE;\n",
              "      border: none;\n",
              "      border-radius: 50%;\n",
              "      cursor: pointer;\n",
              "      display: none;\n",
              "      fill: #1967D2;\n",
              "      height: 32px;\n",
              "      padding: 0 0 0 0;\n",
              "      width: 32px;\n",
              "    }\n",
              "\n",
              "    .colab-df-convert:hover {\n",
              "      background-color: #E2EBFA;\n",
              "      box-shadow: 0px 1px 2px rgba(60, 64, 67, 0.3), 0px 1px 3px 1px rgba(60, 64, 67, 0.15);\n",
              "      fill: #174EA6;\n",
              "    }\n",
              "\n",
              "    [theme=dark] .colab-df-convert {\n",
              "      background-color: #3B4455;\n",
              "      fill: #D2E3FC;\n",
              "    }\n",
              "\n",
              "    [theme=dark] .colab-df-convert:hover {\n",
              "      background-color: #434B5C;\n",
              "      box-shadow: 0px 1px 3px 1px rgba(0, 0, 0, 0.15);\n",
              "      filter: drop-shadow(0px 1px 2px rgba(0, 0, 0, 0.3));\n",
              "      fill: #FFFFFF;\n",
              "    }\n",
              "  </style>\n",
              "\n",
              "      <script>\n",
              "        const buttonEl =\n",
              "          document.querySelector('#df-11c1a4ba-971f-4d8f-b461-40b30033cf6d button.colab-df-convert');\n",
              "        buttonEl.style.display =\n",
              "          google.colab.kernel.accessAllowed ? 'block' : 'none';\n",
              "\n",
              "        async function convertToInteractive(key) {\n",
              "          const element = document.querySelector('#df-11c1a4ba-971f-4d8f-b461-40b30033cf6d');\n",
              "          const dataTable =\n",
              "            await google.colab.kernel.invokeFunction('convertToInteractive',\n",
              "                                                     [key], {});\n",
              "          if (!dataTable) return;\n",
              "\n",
              "          const docLinkHtml = 'Like what you see? Visit the ' +\n",
              "            '<a target=\"_blank\" href=https://colab.research.google.com/notebooks/data_table.ipynb>data table notebook</a>'\n",
              "            + ' to learn more about interactive tables.';\n",
              "          element.innerHTML = '';\n",
              "          dataTable['output_type'] = 'display_data';\n",
              "          await google.colab.output.renderOutput(dataTable, element);\n",
              "          const docLink = document.createElement('div');\n",
              "          docLink.innerHTML = docLinkHtml;\n",
              "          element.appendChild(docLink);\n",
              "        }\n",
              "      </script>\n",
              "    </div>\n",
              "  </div>\n",
              "  "
            ]
          },
          "metadata": {},
          "execution_count": 105
        }
      ]
    },
    {
      "cell_type": "markdown",
      "source": [
        "Se crea el modelo para los datos de entrenamiento"
      ],
      "metadata": {
        "id": "j15CDupoYdbg"
      }
    },
    {
      "cell_type": "code",
      "source": [
        "lineal_regresion = LinearRegression()"
      ],
      "metadata": {
        "id": "Xa0Bt1K_YdBl"
      },
      "execution_count": null,
      "outputs": []
    },
    {
      "cell_type": "markdown",
      "source": [
        "Se realiza el 'fit' de la regresión con los datos de entrenamiento"
      ],
      "metadata": {
        "id": "ngBfVM2ygwj1"
      }
    },
    {
      "cell_type": "code",
      "source": [
        "DFt=lineal_regresion.fit(X_train, y_train)"
      ],
      "metadata": {
        "id": "Y_BoPUkjV1O6"
      },
      "execution_count": null,
      "outputs": []
    },
    {
      "cell_type": "markdown",
      "source": [
        "Se obtienen los coeficientes theta del modelo"
      ],
      "metadata": {
        "id": "3PCZmuKIhIbQ"
      }
    },
    {
      "cell_type": "code",
      "source": [
        "print(lineal_regresion .coef_)"
      ],
      "metadata": {
        "colab": {
          "base_uri": "https://localhost:8080/"
        },
        "id": "-ygvu2OvWa3D",
        "outputId": "bc480c64-f703-4552-8dee-9d702fc48216"
      },
      "execution_count": null,
      "outputs": [
        {
          "output_type": "stream",
          "name": "stdout",
          "text": [
            "[[ 0.05368006  0.11152624 -0.00351166]]\n"
          ]
        }
      ]
    },
    {
      "cell_type": "markdown",
      "source": [
        "Coeficientes para los datos de prueba\n"
      ],
      "metadata": {
        "id": "XQD9aLOHioDa"
      }
    },
    {
      "cell_type": "code",
      "source": [
        "lineal_regresion.fit(X_test, y_test)"
      ],
      "metadata": {
        "colab": {
          "base_uri": "https://localhost:8080/"
        },
        "id": "UtMdOauZYX1Q",
        "outputId": "3ecf857d-8da6-4e59-e5ed-729ac83865f5"
      },
      "execution_count": null,
      "outputs": [
        {
          "output_type": "execute_result",
          "data": {
            "text/plain": [
              "LinearRegression()"
            ]
          },
          "metadata": {},
          "execution_count": 94
        }
      ]
    },
    {
      "cell_type": "code",
      "source": [
        "print(lineal_regresion .coef_)"
      ],
      "metadata": {
        "colab": {
          "base_uri": "https://localhost:8080/"
        },
        "id": "3j9uCxqNYl4u",
        "outputId": "8e38cf1b-8801-4b94-db68-2d60cd819256"
      },
      "execution_count": null,
      "outputs": [
        {
          "output_type": "stream",
          "name": "stdout",
          "text": [
            "[[0.05844516 0.08002981 0.02198091]]\n"
          ]
        }
      ]
    },
    {
      "cell_type": "markdown",
      "source": [
        "Se revisa que tan bueno fue el modelo a traves de la metrica de rendimiento"
      ],
      "metadata": {
        "id": "GwvKZhbecep5"
      }
    },
    {
      "cell_type": "markdown",
      "source": [
        "![imagen.png](data:image/png;base64,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)"
      ],
      "metadata": {
        "id": "NRhbxpl0oRtS"
      }
    },
    {
      "cell_type": "code",
      "source": [
        "r2 = DFt.score(X_test, y_test)\n",
        "\n",
        "print(\"Metrica de R2 Score: \", r2)"
      ],
      "metadata": {
        "colab": {
          "base_uri": "https://localhost:8080/"
        },
        "id": "hImZ__i8Z2yR",
        "outputId": "55da6e42-72a7-4b53-8d1f-25d3b2ac446b"
      },
      "execution_count": null,
      "outputs": [
        {
          "output_type": "stream",
          "name": "stdout",
          "text": [
            "Metrica de R2 Score:  0.8765948711365155\n"
          ]
        }
      ]
    },
    {
      "cell_type": "markdown",
      "source": [
        "## __Modelos__\n",
        "\n",
        "Se construye un modelo para cada uno de los medios publicitarios disponibles (un modelo por cada característica)(0-TV, 1-Radio, 2-NewsPaper). se utiliza un pipeline de preprocesamiento generado con el estimador correspondiente. Para este caso utilizaremos la clase `SGDRegressor`."
      ],
      "metadata": {
        "id": "gvj18NKynZf0"
      }
    },
    {
      "cell_type": "code",
      "source": [
        "model_result = {}\n",
        "X_train, y_train = data.drop(3, axis='columns'), data[3]"
      ],
      "metadata": {
        "id": "lgEUmeE3nZH_"
      },
      "execution_count": null,
      "outputs": []
    },
    {
      "cell_type": "code",
      "source": [
        "for feature in X_train.columns:\n",
        "  \n",
        "  regressorSGD = Pipeline(\n",
        "      steps=[(\"numerical_imputer\", SimpleImputer(strategy='mean')), \n",
        "           (\"scaler\", StandardScaler()), \n",
        "           (\"sgd\", SGDRegressor())])\n",
        "  \n",
        "  regressorSGD.fit(X_train[feature].values.reshape(-1,1), y_train)\n",
        "\n",
        "  model_result[feature] = regressorSGD"
      ],
      "metadata": {
        "id": "3uUMVDcfoGbz"
      },
      "execution_count": null,
      "outputs": []
    },
    {
      "cell_type": "markdown",
      "source": [
        "Se genera un gráfico con los datos de entrenamiento y la línea de regresión por cada variable."
      ],
      "metadata": {
        "id": "akHQ342ipID_"
      }
    },
    {
      "cell_type": "code",
      "source": [
        "fig, axes = plt.subplots(1, len(X_train.columns), figsize=(20, 6))\n",
        "\n",
        "for i in range(3):\n",
        "  X_values = X_train.iloc[:,i].values.reshape(-1, 1)\n",
        "  y_values = y_train.values.reshape(-1, 1)\n",
        "\n",
        "  axes[i].scatter(data.iloc[:,i], y_values, label='Data')\n",
        "  model = model_result[X_train.columns[i]]\n",
        "  predicted = model.predict(X_values)\n",
        "\n",
        "  axes[i].plot(data.iloc[:,i], predicted, color='red', label='Regresión')\n",
        "  axes[i].set_title(X_train.columns[i])\n",
        "  axes[i].set_xlabel('Presupuesto')\n",
        "  axes[i].set_ylabel('Ventas')\n",
        "  axes[i].grid()\n",
        "  axes[i].legend()"
      ],
      "metadata": {
        "colab": {
          "base_uri": "https://localhost:8080/",
          "height": 404
        },
        "id": "ulwADtWapQSX",
        "outputId": "ef4069e8-44f4-4313-efab-e3715ab30121"
      },
      "execution_count": null,
      "outputs": [
        {
          "output_type": "display_data",
          "data": {
            "text/plain": [
              "<Figure size 1440x432 with 3 Axes>"
            ],
            "image/png": "[encoded data removed]"
          },
          "metadata": {
            "needs_background": "light"
          }
        }
      ]
    },
    {
      "cell_type": "markdown",
      "source": [
        "Se comparan los coeficientes de determinación $R^2$ obtenidos mediante un diagrama de barras"
      ],
      "metadata": {
        "id": "Ll7RyLFetIGJ"
      }
    },
    {
      "cell_type": "code",
      "source": [
        "scores = []\n",
        "for i, feature in enumerate(X_train.columns):\n",
        "  X_values = X_train.iloc[:,i].values.reshape(-1, 1)\n",
        "  y_values = y_train.values.reshape(-1, 1)\n",
        "  model = model_result[feature]\n",
        "  scores.append(model.score(X_values, y_values))\n",
        "\n",
        "plt.figure(figsize=(8,6))\n",
        "plt.bar(X_train.columns, scores)\n",
        "plt.ylabel('$R^2$')\n",
        "plt.title('comparación')\n",
        "plt.grid()\n",
        "\n",
        "def add_labels(x,y):\n",
        "    for i in range(len(x)):\n",
        "        plt.text(i, y[i] + 0.01, round(y[i],2), ha = 'center')\n",
        "\n",
        "add_labels(X_train.columns, scores)"
      ],
      "metadata": {
        "colab": {
          "base_uri": "https://localhost:8080/",
          "height": 390
        },
        "id": "4IuCaMwMtaLc",
        "outputId": "4061341f-8238-45ef-b181-cf731dae5ab1"
      },
      "execution_count": null,
      "outputs": [
        {
          "output_type": "display_data",
          "data": {
            "text/plain": [
              "<Figure size 576x432 with 1 Axes>"
            ],
            "image/png": "[encoded data removed]"
          },
          "metadata": {
            "needs_background": "light"
          }
        }
      ]
    }
  ]
}